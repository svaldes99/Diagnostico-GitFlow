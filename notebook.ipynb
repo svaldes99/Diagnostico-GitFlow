{
 "cells": [
  {
   "cell_type": "code",
   "execution_count": 1,
   "metadata": {},
   "outputs": [
    {
     "name": "stdout",
     "output_type": "stream",
     "text": [
      "02/03/2021 83866\n",
      "\n",
      "02/04/2021 58607\n",
      "\n",
      "02/05/2021 33332\n",
      "\n",
      "02/02/2021 28548\n",
      "\n",
      "02/06/2021 22420\n",
      "\n",
      "02/07/2021 11325\n",
      "\n",
      "02/09/2021 9320\n",
      "\n",
      "02/08/2021 8920\n",
      "\n",
      "02/10/2021 7973\n",
      "\n",
      "02/11/2021 5698\n",
      "\n"
     ]
    }
   ],
   "source": [
    "from main import main\n",
    "\n",
    "main()"
   ]
  }
 ],
 "metadata": {
  "interpreter": {
   "hash": "53de043e544e66dc0242e86fd2c0cc94140964618fa2a1e558d61bd932738ae6"
  },
  "kernelspec": {
   "display_name": "Python 3.10.1 64-bit",
   "language": "python",
   "name": "python3"
  },
  "language_info": {
   "codemirror_mode": {
    "name": "ipython",
    "version": 3
   },
   "file_extension": ".py",
   "mimetype": "text/x-python",
   "name": "python",
   "nbconvert_exporter": "python",
   "pygments_lexer": "ipython3",
   "version": "3.10.1"
  },
  "orig_nbformat": 4
 },
 "nbformat": 4,
 "nbformat_minor": 2
}
