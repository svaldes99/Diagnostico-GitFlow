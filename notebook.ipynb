{
 "cells": [
  {
   "cell_type": "code",
   "execution_count": 1,
   "metadata": {},
   "outputs": [
    {
     "name": "stdout",
     "output_type": "stream",
     "text": [
      "#FarmersProtest 403603\n",
      "\n",
      "#IStandWithFarmers 15753\n",
      "\n",
      "#farmersprotest 15250\n",
      "\n",
      "#IndianFarmersHumanRights 12007\n",
      "\n",
      "#FarmersAreIndia 11029\n",
      "\n",
      "#StandWithFarmers 10551\n",
      "\n",
      "#Rihanna 8981\n",
      "\n",
      "#FarmersProtests 8727\n",
      "\n",
      "#Farmers 6450\n",
      "\n",
      "#shameonbollywood 6263\n",
      "\n"
     ]
    }
   ],
   "source": [
    "from main import main\n",
    "\n",
    "main()"
   ]
  }
 ],
 "metadata": {
  "interpreter": {
   "hash": "53de043e544e66dc0242e86fd2c0cc94140964618fa2a1e558d61bd932738ae6"
  },
  "kernelspec": {
   "display_name": "Python 3.10.1 64-bit",
   "language": "python",
   "name": "python3"
  },
  "language_info": {
   "codemirror_mode": {
    "name": "ipython",
    "version": 3
   },
   "file_extension": ".py",
   "mimetype": "text/x-python",
   "name": "python",
   "nbconvert_exporter": "python",
   "pygments_lexer": "ipython3",
   "version": "3.10.1"
  },
  "orig_nbformat": 4
 },
 "nbformat": 4,
 "nbformat_minor": 2
}
