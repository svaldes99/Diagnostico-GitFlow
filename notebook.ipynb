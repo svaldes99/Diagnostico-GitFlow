{
 "cells": [
  {
   "cell_type": "code",
   "execution_count": 1,
   "metadata": {},
   "outputs": [
    {
     "name": "stdout",
     "output_type": "stream",
     "text": [
      "['why aren’t we talking about this?! #FarmersProtest https://t.co/obmIlXhK9S ', 'We stand in solidarity with the #FarmersProtest in India.\\n https://t.co/tqvR0oHgo0 ', 'I still #StandWithFarmers and support their peaceful protest.\\nNo amount of hate, threats or violations of human rights will ever change that. #FarmersProtest ', '“Paid actors,” huh? Quite the casting director, I hope they’re not overlooked during awards season. I stand with the farmers. #FarmersProtest https://t.co/moONj03tN0 ', 'What in the human rights violations is going on?! They cut the internet around New Delhi?! #FarmersProtest https://t.co/a5ml1P2ikU ', 'Happy to share that I’ve donated $10,000 to provide medical assistance to the farmers in need in India to help save lives during these times. I hope we can prevent any additional life from being lost. 🙏🏾 #FarmersProtest https://t.co/0WoEw0l3ij ', 'There has been much social media coverage around the #FarmersProtest in #India. Very useful guide to the legislation and the impact on farmers. 1/2 https://t.co/3CsdgBebdZ ', 'Farmers feed the world. Fight for them. Protect them #FarmersProtest ', 'Should be talking about this! #FarmersProtest\\n\\nhttps://t.co/Xh09iTvVoF ', 'To all of my influencer/celeb friends- read up on this   #FarmersProtest 👀 ']\n"
     ]
    },
    {
     "data": {
      "text/plain": [
       "0"
      ]
     },
     "execution_count": 1,
     "metadata": {},
     "output_type": "execute_result"
    }
   ],
   "source": [
    "from main import main\n",
    "\n",
    "main()"
   ]
  }
 ],
 "metadata": {
  "interpreter": {
   "hash": "53de043e544e66dc0242e86fd2c0cc94140964618fa2a1e558d61bd932738ae6"
  },
  "kernelspec": {
   "display_name": "Python 3.10.1 64-bit",
   "language": "python",
   "name": "python3"
  },
  "language_info": {
   "codemirror_mode": {
    "name": "ipython",
    "version": 3
   },
   "file_extension": ".py",
   "mimetype": "text/x-python",
   "name": "python",
   "nbconvert_exporter": "python",
   "pygments_lexer": "ipython3",
   "version": "3.10.1"
  },
  "orig_nbformat": 4
 },
 "nbformat": 4,
 "nbformat_minor": 2
}
