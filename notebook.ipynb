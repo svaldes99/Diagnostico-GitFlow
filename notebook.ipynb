{
 "cells": [
  {
   "cell_type": "code",
   "execution_count": 1,
   "metadata": {},
   "outputs": [
    {
     "name": "stdout",
     "output_type": "stream",
     "text": [
      "threadreaderapp 1762461\n",
      "\n",
      "GeorgekurianINC 1711890\n",
      "\n",
      "CyberAnonymous 1435641\n",
      "\n",
      "unbiased100 1027493\n",
      "\n",
      "pavan_sethi 1015822\n",
      "\n",
      "animesh1977 974774\n",
      "\n",
      "CNBCTV18Live 944150\n",
      "\n",
      "htTweets 867974\n",
      "\n",
      "CNNnews18 863754\n",
      "\n",
      "IndiaToday 851154\n",
      "\n"
     ]
    }
   ],
   "source": [
    "from main import main\n",
    "\n",
    "main()"
   ]
  }
 ],
 "metadata": {
  "interpreter": {
   "hash": "53de043e544e66dc0242e86fd2c0cc94140964618fa2a1e558d61bd932738ae6"
  },
  "kernelspec": {
   "display_name": "Python 3.10.1 64-bit",
   "language": "python",
   "name": "python3"
  },
  "language_info": {
   "codemirror_mode": {
    "name": "ipython",
    "version": 3
   },
   "file_extension": ".py",
   "mimetype": "text/x-python",
   "name": "python",
   "nbconvert_exporter": "python",
   "pygments_lexer": "ipython3",
   "version": "3.10.1"
  },
  "orig_nbformat": 4
 },
 "nbformat": 4,
 "nbformat_minor": 2
}
